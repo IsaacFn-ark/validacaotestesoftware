{
 "cells": [
  {
   "cell_type": "code",
   "execution_count": 1,
   "metadata": {},
   "outputs": [],
   "source": [
    "import psycopg2\n",
    "import time"
   ]
  },
  {
   "cell_type": "code",
   "execution_count": 2,
   "metadata": {},
   "outputs": [],
   "source": [
    "host = 'localhost'\n",
    "port = '5432'\n",
    "database = 'unifametro'\n",
    "user = 'postgres'\n",
    "password = '123456'\n",
    "\n",
    "def execute_query(query):\n",
    "    conn = psycopg2.connect(host=host, port=port, database=database, user=user, password=password)\n",
    "\n",
    "    cursor = conn.cursor()\n",
    "    cursor.execute(query)\n",
    "    result = cursor.fetchall()\n",
    "    cursor.close()\n",
    "    conn.close()\n",
    "    return result"
   ]
  },
  {
   "cell_type": "code",
   "execution_count": 3,
   "metadata": {},
   "outputs": [],
   "source": [
    "def perform_load_test(num_queries):\n",
    "    start_time = time.time()\n",
    "    for i in range(num_queries):\n",
    "        query = \"SELECT * FROM tabela_exemplo;\"\n",
    "        result = execute_query(query)\n",
    "        #print(f\"Consulta {i + 1}: {result}\")\n",
    "\n",
    "\n",
    "    end_time = time.time()\n",
    "    elapse_time = end_time - start_time\n",
    "    print(f\"\\n Tempo total de execução: {elapse_time} seundos\")\n",
    "    print(f\"\\n Tempo médio por consulta: {elapse_time/num_queries} segundos\")"
   ]
  },
  {
   "cell_type": "code",
   "execution_count": 8,
   "metadata": {},
   "outputs": [
    {
     "name": "stdout",
     "output_type": "stream",
     "text": [
      "\n",
      " Tempo total de execução: 119.63064813613892 seundos\n",
      "\n",
      " Tempo médio por consulta: 0.07975376542409261 segundos\n"
     ]
    }
   ],
   "source": [
    "perform_load_test(1500)"
   ]
  },
  {
   "cell_type": "code",
   "execution_count": null,
   "metadata": {},
   "outputs": [],
   "source": [
    "# Teste 1\n",
    "# Relatório de teste de Carga\n",
    "# Data do Teste: [16/03/2024]\n",
    "# Duração do Teste: [0.8928465843200684 segundos]\n",
    "# Ambiente de Teste: [Ambiente local]\n",
    "\n",
    "# Resumo do Teste\n",
    "\n",
    "# Número total de consultas:[10]\n",
    "# Tempo de execução:[0.8928465843200684 segundos]\n",
    "# Tempo médio de execução: [0.08928465843200684 segundos]\n",
    "# Observações Gerais: [Todos os 10 registros executados no tempo de 0.8928465843200684 segundos e tempo médio de 0.08928465843200684 segundos]\n",
    "\n",
    "# Teste 2\n",
    "# Relatório de teste de Carga\n",
    "# Data do Teste: [16/03/2024]\n",
    "# Ambiente de Teste: [Ambiente local]\n",
    "# Duração do Teste: [8.516714096069336 segundos]\n",
    "\n",
    "# Resumo do Teste\n",
    "\n",
    "# Número total de consultas:[100]\n",
    "# Tempo de execução:[8.516714096069336  segundos]\n",
    "# Tempo médio de execução: [0.08516714096069336 segundos]\n",
    "# Observações Gerais: [Todos os 100 registros executados no tempo de 8.516714096069336 segundos e tempo médio de 0.08516714096069336 segundos]\n",
    "\n",
    "# Teste 3\n",
    "# Relatório de teste de Carga\n",
    "# Data do Teste: [16/03/2024]\n",
    "# Duração do Teste: [81.64842343330383 segundos]\n",
    "# Ambiente de Teste: [Ambiente local]\n",
    "\n",
    "# Resumo do Teste\n",
    "\n",
    "# Número total de consultas:[1000]\n",
    "# Tempo de execução: [81.64842343330383  segundos]\n",
    "# Tempo médio de execução: [0.08164842343330384 segundos]\n",
    "# Observações Gerais: [Todos os 1000 registros executados no tempo de 81.64842343330383 segundos e tempo médio de 0.08164842343330384  segundos]\n",
    "\n",
    "\n",
    "# Teste 4\n",
    "# Relatório de teste de Carga\n",
    "# Data do Teste: [16/03/2024]\n",
    "# Duração do Teste: 119.63064813613892 segundos]\n",
    "# Ambiente de Teste: [Ambiente local]\n",
    "\n",
    "# Resumo do Teste\n",
    "\n",
    "# Número total de consultas:[1500]\n",
    "# Tempo de execução:[119.63064813613892  segundos]\n",
    "# Tempo médio de execução: [0.07975376542409261 segundos]\n",
    "# Observações Gerais: [Todos os 1500 registros executados no tempo de 119.63064813613892  segundos e tempo médio de 0.07975376542409261  segundos]"
   ]
  }
 ],
 "metadata": {
  "kernelspec": {
   "display_name": "digital",
   "language": "python",
   "name": "python3"
  },
  "language_info": {
   "codemirror_mode": {
    "name": "ipython",
    "version": 3
   },
   "file_extension": ".py",
   "mimetype": "text/x-python",
   "name": "python",
   "nbconvert_exporter": "python",
   "pygments_lexer": "ipython3",
   "version": "3.9.13"
  }
 },
 "nbformat": 4,
 "nbformat_minor": 2
}
